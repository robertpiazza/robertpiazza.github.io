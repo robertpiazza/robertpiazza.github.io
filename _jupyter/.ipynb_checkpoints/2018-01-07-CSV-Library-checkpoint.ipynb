{
 "cells": [
  {
   "cell_type": "markdown",
   "id": "aba27a93",
   "metadata": {},
   "source": [
    "### Standard CSV Library"
   ]
  },
  {
   "cell_type": "code",
   "execution_count": 1,
   "id": "3f4eddb9",
   "metadata": {},
   "outputs": [
    {
     "name": "stdout",
     "output_type": "stream",
     "text": [
      "['Field0', 'Field1', 'Field2', 'Field3']\n",
      "['0', '1', '2', '3']\n",
      "['text', '(also called strings)', 'can go', 'here too']\n",
      "['pi', ' \"e\"', \"Euler's constant\", ' \"e^(pi/2)\"']\n",
      "['3.14159', '2.71828', '0.577215', '0.207879576']\n",
      "[\"You Can't\", 'Have Your', 'Cake and', 'Eat it Too']\n"
     ]
    }
   ],
   "source": [
    "#Reading a CSV File\n",
    "import csv \n",
    "infile = open('1-1-1 sample.data','r') #the r means open for reading, use w when writing\n",
    "reader = csv.reader(infile)\n",
    "for line in reader:\n",
    "    print(line)\n",
    "infile.close()"
   ]
  },
  {
   "cell_type": "markdown",
   "id": "9c87db68",
   "metadata": {},
   "source": [
    "When Using quotes, you can use either singles (') or doubles (\")\n",
    "But if your text already includes one of them, use the other"
   ]
  },
  {
   "cell_type": "code",
   "execution_count": 2,
   "id": "a3d3400b",
   "metadata": {},
   "outputs": [
    {
     "data": {
      "text/plain": [
       "'He turned to me and said, \"Hello there\"'"
      ]
     },
     "execution_count": 2,
     "metadata": {},
     "output_type": "execute_result"
    }
   ],
   "source": [
    "'He turned to me and said, \"Hello there\"'"
   ]
  },
  {
   "cell_type": "markdown",
   "id": "cfb8d820",
   "metadata": {},
   "source": [
    "#### Writing Data to a File"
   ]
  },
  {
   "cell_type": "code",
   "execution_count": 3,
   "id": "7c077b27",
   "metadata": {},
   "outputs": [],
   "source": [
    "import csv\n",
    "\n",
    "#Open the file for writing ('w') \n",
    "outfile = open('1-1-1 newfile.csv', 'w')\n",
    "\n",
    "#Construct a writer \n",
    "out = csv.writer(outfile, lineterminator='\\n')\n",
    "\n",
    "out.writerow(['this','is','your','header'])\n",
    "for i in range(10):\n",
    "    #Write the rows using the writer \n",
    "    out.writerow([i,i+1,i+2,i+3])\n",
    "\n",
    "#Close the file \n",
    "outfile.close()\n",
    "\n",
    "#Note: The string used to terminate lines produced by the writer defaults \n",
    "#to \\r\\n. This may cause issues for non-Windows users if you do not know this \n",
    "#is the default.\n"
   ]
  },
  {
   "cell_type": "markdown",
   "id": "3653a444",
   "metadata": {},
   "source": [
    "`## Creates a file with following contents:\n",
    "this,is,your,header\n",
    "0,1,2,3\n",
    "1,2,3,4\n",
    "2,3,4,5\n",
    "3,4,5,6\n",
    "4,5,6,7\n",
    "5,6,7,8\n",
    "6,7,8,9\n",
    "7,8,9,10\n",
    "8,9,10,11\n",
    "9,10,11,12\n",
    "`"
   ]
  },
  {
   "cell_type": "markdown",
   "id": "ae68a700",
   "metadata": {},
   "source": [
    "Alternatively, most libraries contain a `.to_csv()` method you can use for exporting items to a csv or other tabular file"
   ]
  },
  {
   "cell_type": "markdown",
   "id": "7a737f13",
   "metadata": {},
   "source": [
    "Data Science Examples from ExploringDataScience.com"
   ]
  }
 ],
 "metadata": {
  "kernelspec": {
   "display_name": "Python 3",
   "language": "python",
   "name": "python3"
  },
  "language_info": {
   "codemirror_mode": {
    "name": "ipython",
    "version": 3
   },
   "file_extension": ".py",
   "mimetype": "text/x-python",
   "name": "python",
   "nbconvert_exporter": "python",
   "pygments_lexer": "ipython3",
   "version": "3.8.5"
  }
 },
 "nbformat": 4,
 "nbformat_minor": 5
}
